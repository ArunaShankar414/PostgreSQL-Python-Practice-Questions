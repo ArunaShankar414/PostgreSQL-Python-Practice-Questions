{
 "cells": [
  {
   "cell_type": "code",
   "execution_count": null,
   "metadata": {},
   "outputs": [],
   "source": [
    "!pip install psycopg2"
   ]
  },
  {
   "cell_type": "markdown",
   "metadata": {},
   "source": [
    "# Import the required libraries"
   ]
  },
  {
   "cell_type": "code",
   "execution_count": null,
   "metadata": {},
   "outputs": [],
   "source": [
    "import psycopg2\n",
    "import pandas as pd\n",
    "import warnings\n",
    "warnings.filterwarnings('ignore')\n",
    "from IPython.core.interactiveshell import InteractiveShell\n",
    "InteractiveShell.ast_node_interactivity = \"all\"\n",
    "from IPython.core.display import Image, display"
   ]
  },
  {
   "cell_type": "markdown",
   "metadata": {},
   "source": [
    "# Connecting to the dvdrental database"
   ]
  },
  {
   "cell_type": "code",
   "execution_count": null,
   "metadata": {},
   "outputs": [],
   "source": [
    "#Connecting to the server\n",
    "conn = psycopg2.connect(database='dvdrental', user='postgres', password='post')"
   ]
  },
  {
   "cell_type": "markdown",
   "metadata": {},
   "source": [
    "**DVD Rental ER Diagram**"
   ]
  },
  {
   "cell_type": "markdown",
   "metadata": {},
   "source": [
    "<img src=\"dvdrental_diagram.png\" alt=\"Drawing\" style=\"width: 500px;\"/>"
   ]
  },
  {
   "cell_type": "markdown",
   "metadata": {},
   "source": [
    "**Contents of each table**"
   ]
  },
  {
   "cell_type": "code",
   "execution_count": null,
   "metadata": {
    "scrolled": true
   },
   "outputs": [],
   "source": [
    "sql = [\"SELECT * from actor\",\"SELECT * from actor_info\",\"SELECT * from address\",\n",
    "       \"SELECT * from category\",\"SELECT * from FILM\",\"SELECT * from city\",\"SELECT * from film_category\",\n",
    "      \"SELECT * from inventory\",\"SELECT * from customer\",\"SELECT * from rental\",\n",
    "      \"SELECT * from payment\",\"SELECT * from language\",\"SELECT * from staff\",\n",
    "      \"SELECT * from film_actor\",\"SELECT * from country\",\"SELECT * from store\"]\n",
    "\n",
    "\n",
    "for sql in sql:\n",
    "    print(sql.lstrip(\"SELECT * from \").upper()+\" TABLE\")\n",
    "    pd.read_sql_query(sql, conn).head(5)\n",
    "    print('\\n')"
   ]
  },
  {
   "cell_type": "markdown",
   "metadata": {},
   "source": [
    "**Datatypes of each table**"
   ]
  },
  {
   "cell_type": "code",
   "execution_count": null,
   "metadata": {
    "scrolled": true
   },
   "outputs": [],
   "source": [
    "val = ['actor','actor_info','address','category','city','film_category','inventory',\n",
    "      'customer','rental','payment','language','staff','film_actor','film','country','store']\n",
    "\n",
    "for val in val:\n",
    "    sql = '''select column_name, data_type from information_schema.columns\n",
    "    where table_name = '{}'\n",
    "    '''.format(val)\n",
    "    print('{} Table'.format(val.upper()))\n",
    "    pd.read_sql_query(sql,conn)"
   ]
  },
  {
   "cell_type": "markdown",
   "metadata": {},
   "source": [
    "# SQL Queries Practice Questions"
   ]
  },
  {
   "cell_type": "markdown",
   "metadata": {},
   "source": [
    "# 1. Basic Select"
   ]
  },
  {
   "cell_type": "markdown",
   "metadata": {},
   "source": [
    "<img src=\"city_1.png\" alt=\"Drawing\" style=\"width: 250px;\"/>"
   ]
  },
  {
   "cell_type": "markdown",
   "metadata": {},
   "source": [
    "**Q1. Query all columns for all cities with country_id equal to 20.**"
   ]
  },
  {
   "cell_type": "code",
   "execution_count": null,
   "metadata": {},
   "outputs": [],
   "source": [
    "sql =''' SELECT * from city\n",
    "WHERE country_id = 20'''\n",
    "\n",
    "pd.read_sql_query(sql, conn).head(5)"
   ]
  },
  {
   "cell_type": "markdown",
   "metadata": {},
   "source": [
    "**Q2. Query the names for all cities with country_id equal to 40.**"
   ]
  },
  {
   "cell_type": "code",
   "execution_count": null,
   "metadata": {},
   "outputs": [],
   "source": [
    "sql ='''\n",
    "\n",
    "'''\n",
    "\n",
    "pd.read_sql_query(sql, conn).head(10)"
   ]
  },
  {
   "cell_type": "markdown",
   "metadata": {},
   "source": [
    "**Q3. Query a list of first_name and last_name from actor table**"
   ]
  },
  {
   "cell_type": "markdown",
   "metadata": {},
   "source": [
    "<img src=\"actor_1.png\" alt=\"Drawing\" style=\"width: 250px;\"/>"
   ]
  },
  {
   "cell_type": "code",
   "execution_count": null,
   "metadata": {},
   "outputs": [],
   "source": [
    "sql ='''  \n",
    "\n",
    "'''\n",
    "\n",
    "pd.read_sql_query(sql, conn).head(10)"
   ]
  },
  {
   "cell_type": "markdown",
   "metadata": {},
   "source": [
    "**Q4. Query a list of city names and city ids from CITY with even ID numbers only. You may print the \n",
    "results in any order, but must exclude duplicates from your answer**"
   ]
  },
  {
   "cell_type": "markdown",
   "metadata": {},
   "source": [
    "<img src=\"city_1.png\" alt=\"Drawing\" style=\"width: 250px;\"/>"
   ]
  },
  {
   "cell_type": "code",
   "execution_count": null,
   "metadata": {},
   "outputs": [],
   "source": [
    "sql ='''\n",
    "\n",
    "'''\n",
    "\n",
    "pd.read_sql_query(sql, conn).head(10)"
   ]
  },
  {
   "cell_type": "markdown",
   "metadata": {},
   "source": [
    "**Q5. Let  _n_  be the number of country_id entries in CITY, and let  _m_  be the number of distinct country_id in CITY; query the value of  _n-m_  from CITY. In other words, find the difference between the total number of country_id entries in the table and the number of distinct country_id entries in the table.**"
   ]
  },
  {
   "cell_type": "code",
   "execution_count": null,
   "metadata": {},
   "outputs": [],
   "source": [
    "sql =''' \n",
    "\n",
    "'''\n",
    "\n",
    "pd.read_sql_query(sql, conn).head(10)"
   ]
  },
  {
   "cell_type": "markdown",
   "metadata": {},
   "source": [
    "**Q6. Query the two cities in CITY with the shortest and longest city \n",
    "names, as well as their respective lengths (i.e.: number of characters in the name). \n",
    "If there is more than one smallest or largest city, choose the one that comes first when ordered alphabetically.**\n",
    "\n",
    "NOTE: Use **_UNION ALL_** command if you want to combine more than one query\n"
   ]
  },
  {
   "cell_type": "code",
   "execution_count": null,
   "metadata": {},
   "outputs": [],
   "source": [
    "sql ='''\n",
    "\n",
    "'''\n",
    "\n",
    "pd.read_sql_query(sql, conn).head(10)"
   ]
  },
  {
   "cell_type": "markdown",
   "metadata": {},
   "source": [
    "**Q7. Query the list of city names starting with vowels (i.e., a, e, i, o, or u) from CITY. \n",
    "Your result cannot contain duplicates.**"
   ]
  },
  {
   "cell_type": "code",
   "execution_count": null,
   "metadata": {},
   "outputs": [],
   "source": [
    "sql =''' \n",
    "\n",
    "'''\n",
    "\n",
    "pd.read_sql_query(sql, conn).head(10)"
   ]
  },
  {
   "cell_type": "markdown",
   "metadata": {},
   "source": [
    "**Q8. Query the list of city names ending with vowels (i.e., a, e, i, o, or u) from CITY. \n",
    "Your result cannot contain duplicates.**"
   ]
  },
  {
   "cell_type": "code",
   "execution_count": null,
   "metadata": {},
   "outputs": [],
   "source": [
    "sql =''' \n",
    "\n",
    "'''\n",
    "\n",
    "pd.read_sql_query(sql, conn).head(10)"
   ]
  },
  {
   "cell_type": "markdown",
   "metadata": {},
   "source": [
    "**Q9. Query the list of city names from CITY which have vowels (i.e., a, e, i, o, and u) as both their first and last characters. \n",
    "Your result cannot contain duplicates.**"
   ]
  },
  {
   "cell_type": "code",
   "execution_count": null,
   "metadata": {},
   "outputs": [],
   "source": [
    "sql =''' \n",
    "\n",
    "'''\n",
    "\n",
    "pd.read_sql_query(sql, conn).head(10)"
   ]
  },
  {
   "cell_type": "markdown",
   "metadata": {},
   "source": [
    "**Q10. Query the list of city names from CITY that do not start with vowels. \n",
    "Your result cannot contain duplicates.**"
   ]
  },
  {
   "cell_type": "code",
   "execution_count": null,
   "metadata": {},
   "outputs": [],
   "source": [
    "sql = \"\"\" \n",
    "\n",
    "\"\"\"\n",
    "\n",
    "pd.read_sql_query(sql, conn).head(10)"
   ]
  },
  {
   "cell_type": "markdown",
   "metadata": {},
   "source": [
    "**Q11. Query the list of city names from CITY that do end with vowels. \n",
    "Your result cannot contain duplicates.**"
   ]
  },
  {
   "cell_type": "code",
   "execution_count": null,
   "metadata": {},
   "outputs": [],
   "source": [
    "sql = \"\"\" \n",
    "\n",
    "\"\"\"\n",
    "\n",
    "pd.read_sql_query(sql, conn).head(10)"
   ]
  },
  {
   "cell_type": "markdown",
   "metadata": {},
   "source": [
    "**Q12. Query the list of city names from CITY that either do not start with vowels or do not end with vowels. \n",
    "Your result cannot contain duplicates.**"
   ]
  },
  {
   "cell_type": "code",
   "execution_count": null,
   "metadata": {},
   "outputs": [],
   "source": [
    "sql =''' \n",
    "\n",
    "'''\n",
    "\n",
    "pd.read_sql_query(sql, conn).head(10)"
   ]
  },
  {
   "cell_type": "markdown",
   "metadata": {},
   "source": [
    "**Q13. Query the city names in CITY whose city_id is less than 100. Order your output by the last three characters of each city name. If two or more cities both have names ending in the same last three characters (i.e.: Ahmadnagar, Bhavnagar, etc.),\n",
    "secondary sort them by ascending city_id.**"
   ]
  },
  {
   "cell_type": "code",
   "execution_count": null,
   "metadata": {},
   "outputs": [],
   "source": [
    "sql =''' \n",
    "\n",
    "'''\n",
    "\n",
    "pd.read_sql_query(sql, conn).head(10)"
   ]
  },
  {
   "cell_type": "markdown",
   "metadata": {},
   "source": [
    "**Q14. Write a query that prints a list of actor first names and last names from the ACTOR table sorted by first name alphabetically.**"
   ]
  },
  {
   "cell_type": "markdown",
   "metadata": {},
   "source": [
    "<img src=\"actor_1.png\" alt=\"Drawing\" style=\"width: 250px;\"/>"
   ]
  },
  {
   "cell_type": "code",
   "execution_count": null,
   "metadata": {},
   "outputs": [],
   "source": [
    "sql =''' \n",
    "\n",
    "'''\n",
    "\n",
    "pd.read_sql_query(sql, conn).head(10)"
   ]
  },
  {
   "cell_type": "markdown",
   "metadata": {},
   "source": [
    "**Q15. Write a query that prints a list of actor first names and last names from the ACTOR table sorted by last_name alphabetically.**"
   ]
  },
  {
   "cell_type": "code",
   "execution_count": null,
   "metadata": {},
   "outputs": [],
   "source": [
    "sql =''' \n",
    "\n",
    "'''\n",
    "\n",
    "pd.read_sql_query(sql, conn).head(10)"
   ]
  },
  {
   "cell_type": "markdown",
   "metadata": {},
   "source": [
    "# 2. Advanced Select"
   ]
  },
  {
   "cell_type": "markdown",
   "metadata": {},
   "source": [
    "**Q1. Write a query identifying the type of each record in the PAYMENT table using its amount column. Output one of the following statements for each record in the table:**\n",
    "\n",
    "**High_sale**: amount > 11\n",
    "<br>\n",
    "**Medium_sale**:   5 > amount > 11\n",
    "<br>\n",
    "**Low_sale**:    0 > amount > 5\n",
    "<br>\n",
    "**Free_sale**:   amount = 0"
   ]
  },
  {
   "cell_type": "markdown",
   "metadata": {},
   "source": [
    "<img src=\"payment.png\" alt=\"Drawing\" style=\"width: 250px;\"/>"
   ]
  },
  {
   "cell_type": "code",
   "execution_count": null,
   "metadata": {},
   "outputs": [],
   "source": [
    "sql =''' \n",
    "\n",
    "'''\n",
    "pd.read_sql_query(sql, conn).head(10)\n",
    "pd.read_sql_query(sql, conn)['case'].value_counts()"
   ]
  },
  {
   "cell_type": "markdown",
   "metadata": {},
   "source": [
    "**Q2. Generate the following two result sets:**\n",
    "\n",
    "**1. Query an ordered list of city names in CITY, immediately followed by the country_id of each city as a parenthical(i.e.: enclosed in parentheses). For example: Abu Dhabi(101), Abha(82), Islamabad(21).**\n",
    "<br>\n",
    "\n",
    "**2. Query the number of cities in each country_id.Sort the occurrences in ascending order, and output them in the following format:**\n",
    "\n",
    "**_\"There are a total of [city_count] in country [country_id].\"_**\n",
    "\n",
    "where **[city_count]** is the number of cities in a **[country_id]**. If more than one country has the same **[city_count]**, they should be ordered by **[country_id]**.\n",
    "\n",
    "**Limit to 5 rows for each query!**"
   ]
  },
  {
   "cell_type": "markdown",
   "metadata": {},
   "source": [
    "<img src=\"city_1.png\" alt=\"Drawing\" style=\"width: 250px;\"/>\n"
   ]
  },
  {
   "cell_type": "markdown",
   "metadata": {},
   "source": [
    "\n",
    "**OUTPUT**\n",
    "<BR>\n",
    "<img src=\"q2_2.png\" alt=\"Drawing\" align='left' style=\"width: 250px;\"/>"
   ]
  },
  {
   "cell_type": "code",
   "execution_count": null,
   "metadata": {},
   "outputs": [],
   "source": [
    "sql=''' \n",
    "\n",
    "\n",
    "'''\n",
    "\n",
    "pd.read_sql_query(sql,conn).head(10)"
   ]
  },
  {
   "cell_type": "markdown",
   "metadata": {},
   "source": [
    "**Q3. Pivot the staff_id column in PAYMENT such that the average amount processed by each staff_id for customer_id = 341 and customer_id =342 is displayed.**\n",
    "\n",
    "Hint: Use _**crosstab**_ function for pivoting. Create the _tablefunc_ extension only once."
   ]
  },
  {
   "cell_type": "markdown",
   "metadata": {},
   "source": [
    "<img src=\"payment.png\" alt=\"Drawing\" style=\"width: 250px;\"/><img src=\"payment_dtype.png\" alt=\"Drawing\" style=\"width: 250px;\"/>\n"
   ]
  },
  {
   "cell_type": "code",
   "execution_count": null,
   "metadata": {},
   "outputs": [],
   "source": [
    "sql = '''\n",
    "\n",
    "'''\n",
    "\n",
    "pd.read_sql_query(sql,conn)"
   ]
  },
  {
   "cell_type": "markdown",
   "metadata": {},
   "source": [
    "**Q4. Given the table schemas below, write a query to print the film_id, title, total number of actors, total inventory units. Order your output by ascending film_id.**"
   ]
  },
  {
   "cell_type": "markdown",
   "metadata": {},
   "source": [
    "<img src=\"film.png\" alt=\"Drawing\" style=\"width: 150px;\"/>\n",
    "<img src=\"film_actor.png\" alt=\"Drawing\" style=\"width: 150px;\"/>\n",
    "<img src=\"inventory.png\" alt=\"Drawing\" style=\"width: 150px;\"/>"
   ]
  },
  {
   "cell_type": "markdown",
   "metadata": {},
   "source": [
    "**Sample Output**\n",
    "<br>\n",
    "<img src=\"sample_input_q4.png\" alt=\"Drawing\" align='left' style=\"width: 350px;\"/>"
   ]
  },
  {
   "cell_type": "code",
   "execution_count": null,
   "metadata": {},
   "outputs": [],
   "source": [
    "sql ='''\n",
    "\n",
    "'''\n",
    "\n",
    "pd.read_sql_query(sql,conn).head(10)"
   ]
  },
  {
   "cell_type": "markdown",
   "metadata": {},
   "source": [
    "# 3. Aggregation\n"
   ]
  },
  {
   "cell_type": "markdown",
   "metadata": {},
   "source": [
    "**Q1. Query a count of the number of titles in FILM with rental_duration greater than 5.**"
   ]
  },
  {
   "cell_type": "markdown",
   "metadata": {},
   "source": [
    "<img src=\"film.png\" alt=\"Drawing\" style=\"width: 150px;\"/>\n",
    "<img src=\"film_contents.png\" alt=\"Drawing\" style=\"width: 800px;\"/>"
   ]
  },
  {
   "cell_type": "code",
   "execution_count": null,
   "metadata": {},
   "outputs": [],
   "source": [
    "sql = ''' \n",
    "\n",
    "'''\n",
    "\n",
    "pd.read_sql_query(sql,conn).head(10)"
   ]
  },
  {
   "cell_type": "markdown",
   "metadata": {},
   "source": [
    "**Q2. Query the total sum of rental_duration in FILM when length is less than 50.**"
   ]
  },
  {
   "cell_type": "code",
   "execution_count": null,
   "metadata": {},
   "outputs": [],
   "source": [
    "sql = ''' \n",
    "\n",
    "'''\n",
    "\n",
    "pd.read_sql_query(sql,conn)"
   ]
  },
  {
   "cell_type": "markdown",
   "metadata": {},
   "source": [
    "**Q3. Query the average rental_duration in FILM when length is less than 100.**"
   ]
  },
  {
   "cell_type": "code",
   "execution_count": null,
   "metadata": {},
   "outputs": [],
   "source": [
    "sql = ''' \n",
    "\n",
    "'''\n",
    "\n",
    "pd.read_sql_query(sql,conn)"
   ]
  },
  {
   "cell_type": "markdown",
   "metadata": {},
   "source": [
    "**Q4. Query the average rental_duration for all titles in FILM, rounded down to the nearest integer.**"
   ]
  },
  {
   "cell_type": "code",
   "execution_count": null,
   "metadata": {},
   "outputs": [],
   "source": [
    "sql = '''\n",
    "\n",
    "'''\n",
    "\n",
    "pd.read_sql_query(sql,conn)"
   ]
  },
  {
   "cell_type": "markdown",
   "metadata": {},
   "source": [
    "**Q5. Query the average of the rental_rate for all Restricted film titles in FILM. The rating identifier for Restricted is R. Round to 2 decimal places.**"
   ]
  },
  {
   "cell_type": "code",
   "execution_count": null,
   "metadata": {},
   "outputs": [],
   "source": [
    "sql = '''\n",
    "\n",
    "'''\n",
    "\n",
    "pd.read_sql_query(sql,conn)"
   ]
  },
  {
   "cell_type": "markdown",
   "metadata": {},
   "source": [
    "**Q6. Query the difference between the maximum and minimum length of film in FILM.**"
   ]
  },
  {
   "cell_type": "code",
   "execution_count": null,
   "metadata": {},
   "outputs": [],
   "source": [
    "sql = '''\n",
    "\n",
    "'''\n",
    "\n",
    "pd.read_sql_query(sql,conn)"
   ]
  },
  {
   "cell_type": "markdown",
   "metadata": {},
   "source": [
    "**Q7. Rahul was tasked with calculating the average replacement_cost for all films in the FILM table, but did not realize his keyboard's '1' key was broken until after completing the calculation. He wants your help finding the difference between his miscalculation (using replacement_cost with any removed ones), and the actual average replacement_cost.**\n",
    "\n",
    "Write a query calculating the amount of error **(i.e _actual average replacement cost_ - miscalculated average replacement cost)**, and round it up to the next integer."
   ]
  },
  {
   "cell_type": "markdown",
   "metadata": {},
   "source": [
    "<img src=\"film_datatypes.png\" alt=\"Drawing\" align='left' style=\"width: 275px;\"/>"
   ]
  },
  {
   "cell_type": "markdown",
   "metadata": {},
   "source": [
    "**ACTUAL VALUES**\n",
    "<br>\n",
    "<img src=\"q7_actual.png\" alt=\"Drawing\" align='left' style=\"width: 375px;\"/>\n"
   ]
  },
  {
   "cell_type": "markdown",
   "metadata": {},
   "source": [
    "**ERROR VALUES**\n",
    "<br>\n",
    "<img src=\"q7_error1.png\" alt=\"Drawing\" align='left' style=\"width: 375px;\"/>"
   ]
  },
  {
   "cell_type": "markdown",
   "metadata": {},
   "source": [
    "**SAMPLE OUTPUT**\n",
    "<br>\n",
    "<img src=\"error.png\" alt=\"Drawing\" align='left' style=\"width: 100px;\"/>"
   ]
  },
  {
   "cell_type": "code",
   "execution_count": null,
   "metadata": {},
   "outputs": [],
   "source": [
    "sql = '''\n",
    "\n",
    "'''\n",
    "\n",
    "pd.read_sql_query(sql,conn).head(10)"
   ]
  },
  {
   "cell_type": "markdown",
   "metadata": {},
   "source": [
    "**Q8. We define a film's rental cost per day to be (rental_rate / rental_duration) , and the maximum total rental cost per day to be the maximum total rental cost per day for any film in the FILM table.**\n",
    "\n",
    "Write a query to find the **maximum total rental cost per day** as well as the **total number of films which have maximum total rental cost per day.**\n",
    "\n",
    "**Note:** Round to 2 decimal places"
   ]
  },
  {
   "cell_type": "markdown",
   "metadata": {},
   "source": [
    "**SAMPLE INPUT**\n",
    "<br>\n",
    "<img src=\"q8_input1.png\" alt=\"Drawing\" align='left' style=\"width: 375px;\"/>"
   ]
  },
  {
   "cell_type": "markdown",
   "metadata": {},
   "source": [
    "**SAMPLE OUTPUT**\n",
    "<br>\n",
    "<img src=\"q8_output.png\" alt=\"Drawing\" align='left' style=\"width: 250px;\"/>"
   ]
  },
  {
   "cell_type": "code",
   "execution_count": null,
   "metadata": {},
   "outputs": [],
   "source": [
    "sql = ''' \n",
    "          \n",
    "'''\n",
    "\n",
    "pd.read_sql_query(sql,conn)"
   ]
  },
  {
   "cell_type": "markdown",
   "metadata": {},
   "source": [
    "**Q9. Query the following two values from the FILM table:**\n",
    "\n",
    "1. The average of all values in rental_rate rounded to a scale of 2 decimal places.\n",
    "2. The average of all values in replacement_cost rounded to a scale of 2 decimal places.\n",
    "\n",
    "**Input Format**\n",
    "\n",
    "The FILM table is described as follows:"
   ]
  },
  {
   "cell_type": "markdown",
   "metadata": {},
   "source": [
    "<img src=\"film.png\" alt=\"Drawing\" style=\"width: 150px;\"/>"
   ]
  },
  {
   "cell_type": "code",
   "execution_count": null,
   "metadata": {},
   "outputs": [],
   "source": [
    "sql = ''' \n",
    "          \n",
    "'''\n",
    "\n",
    "pd.read_sql_query(sql,conn)"
   ]
  },
  {
   "cell_type": "markdown",
   "metadata": {},
   "source": [
    "**Q10. Query the sum of length of film (length) from FILM having values greater than 30  and less than 50.**"
   ]
  },
  {
   "cell_type": "code",
   "execution_count": null,
   "metadata": {},
   "outputs": [],
   "source": [
    "sql = ''' \n",
    "          \n",
    "      '''\n",
    "\n",
    "pd.read_sql_query(sql,conn)"
   ]
  },
  {
   "cell_type": "markdown",
   "metadata": {},
   "source": [
    "**Q11. Query the longest value of length of film(length) from FILM that is less than 80.**"
   ]
  },
  {
   "cell_type": "code",
   "execution_count": null,
   "metadata": {},
   "outputs": [],
   "source": [
    "sql = '''\n",
    "\n",
    "      '''\n",
    "\n",
    "pd.read_sql_query(sql,conn)"
   ]
  },
  {
   "cell_type": "markdown",
   "metadata": {},
   "source": [
    "**Q12. Query the shortest value of length of film(length) from FILM that is less than 50.**"
   ]
  },
  {
   "cell_type": "code",
   "execution_count": null,
   "metadata": {},
   "outputs": [],
   "source": [
    "sql = ''' \n",
    "\n",
    "      '''\n",
    "\n",
    "pd.read_sql_query(sql,conn)"
   ]
  },
  {
   "cell_type": "markdown",
   "metadata": {},
   "source": [
    "**Q13. Query the replacement_cost for the longest length of film (length) in STATION that is less than 90 . Round your answer to 1 decimal place.**"
   ]
  },
  {
   "cell_type": "code",
   "execution_count": null,
   "metadata": {},
   "outputs": [],
   "source": [
    "sql = ''' \n",
    "\n",
    "\n",
    "      '''\n",
    "\n",
    "pd.read_sql_query(sql,conn)"
   ]
  },
  {
   "cell_type": "markdown",
   "metadata": {},
   "source": [
    "**Q14. Query the replacement_cost for the shortest length of film (length) in STATION that is greater than 130 . Round your answer to 1 decimal place.**"
   ]
  },
  {
   "cell_type": "code",
   "execution_count": null,
   "metadata": {},
   "outputs": [],
   "source": [
    "sql = ''' \n",
    "\n",
    "      '''\n",
    "\n",
    "pd.read_sql_query(sql,conn)"
   ]
  },
  {
   "cell_type": "markdown",
   "metadata": {},
   "source": [
    "**Q15.** Consider **W(_a_,_b_)**  and **Z(_c_,_d_)** to be two points on a 2D plane.\n",
    "\n",
    "1. **_a_** happens to equal the minimum value in rental_rate in FILM\n",
    "2. **_b_** happens to equal the minimum value in replacement_cost in FILM\n",
    "3. **_c_** happens to equal the maximum value in rental_rate in FILM\n",
    "4. **_d_** happens to equal the maximum value in replacement_cost in FILM\n",
    "\n",
    "Query the **Manhattan Distance** between points W and Z"
   ]
  },
  {
   "cell_type": "code",
   "execution_count": null,
   "metadata": {},
   "outputs": [],
   "source": [
    "sql = ''' \n",
    "\n",
    "      '''\n",
    "\n",
    "pd.read_sql_query(sql,conn)"
   ]
  },
  {
   "cell_type": "markdown",
   "metadata": {},
   "source": [
    "**Q16.** Consider **W(_a_,_b_)**  and **Z(_c_,_d_)** to be two points on a 2D plane.\n",
    "\n",
    "1. **_a_** happens to equal the minimum value in rental_rate in FILM\n",
    "2. **_b_** happens to equal the minimum value in replacement_cost in FILM\n",
    "3. **_c_** happens to equal the maximum value in rental_rate in FILM\n",
    "4. **_d_** happens to equal the maximum value in replacement_cost in FILM\n",
    "\n",
    "Query the **Euclidean Distance** between points W and Z. Round to 3 decimal places."
   ]
  },
  {
   "cell_type": "code",
   "execution_count": null,
   "metadata": {},
   "outputs": [],
   "source": [
    "sql = ''' \n",
    "\n",
    "      '''\n",
    "\n",
    "pd.read_sql_query(sql,conn)"
   ]
  },
  {
   "cell_type": "markdown",
   "metadata": {},
   "source": [
    "**Q17. A median is defined as a number separating the higher half of a data set from the lower half. Query the median of the length of film (length) from FILM.**"
   ]
  },
  {
   "cell_type": "code",
   "execution_count": null,
   "metadata": {},
   "outputs": [],
   "source": [
    "sql = ''' \n",
    "\n",
    "      '''\n",
    "\n",
    "pd.read_sql_query(sql,conn)"
   ]
  },
  {
   "cell_type": "markdown",
   "metadata": {},
   "source": [
    "**Q18. A mode is defined as a number that appears most often in a set of data values. Query the mode of the length of film (length) from FILM.**"
   ]
  },
  {
   "cell_type": "code",
   "execution_count": null,
   "metadata": {},
   "outputs": [],
   "source": [
    "sql = ''' \n",
    "\n",
    "      '''\n",
    "\n",
    "pd.read_sql_query(sql,conn)"
   ]
  },
  {
   "cell_type": "markdown",
   "metadata": {},
   "source": [
    "# 4. Joins"
   ]
  },
  {
   "cell_type": "markdown",
   "metadata": {},
   "source": [
    "**Q1. Given the CITY and COUNTRY tables, query the names of all cities where the country is 'India'.**\n",
    "\n",
    "Note: CITY.country_id and COUNTRY.country_id are matching key columns."
   ]
  },
  {
   "cell_type": "markdown",
   "metadata": {},
   "source": [
    "<img src=\"city_country.png\" alt=\"Drawing\" style=\"width: 250px;\"/>"
   ]
  },
  {
   "cell_type": "code",
   "execution_count": null,
   "metadata": {},
   "outputs": [],
   "source": [
    "sql = ''' \n",
    "\n",
    "            \n",
    "      '''\n",
    "\n",
    "pd.read_sql_query(sql,conn).head(10)"
   ]
  },
  {
   "cell_type": "markdown",
   "metadata": {},
   "source": [
    "**Q2. Given the CITY and COUNTRY tables, query the names of all the country (COUNTRY.country) and their respective number of cities (CITY.city).**\n",
    "\n",
    "Note: CITY.country_id and COUNTRY.country_id are matching key columns."
   ]
  },
  {
   "cell_type": "code",
   "execution_count": null,
   "metadata": {},
   "outputs": [],
   "source": [
    "sql = ''' \n",
    "\n",
    "            \n",
    "      '''\n",
    "\n",
    "pd.read_sql_query(sql,conn).head(10)"
   ]
  },
  {
   "cell_type": "markdown",
   "metadata": {},
   "source": [
    "**Q3. Rahul was asked to create a report containing the top 10 films with the highest revenue. The report should not contain any NULL values and must have the following 3 columns: _film id, film title, total amount_.**\n",
    "<br>\n",
    "Order in descending order of total amount. If more than one film have the same total_amount, order alphabetically.\n",
    "\n",
    "Note: **INVENTORY.inventory_id** and **RENTAL.inventory_id** are matching key columns.\n",
    "      **RENTAL.rental_id** and **PAYMENT.rental_id** are matching key columns."
   ]
  },
  {
   "cell_type": "markdown",
   "metadata": {},
   "source": [
    "<img src=\"film.png\" alt=\"Drawing\" align='left' style=\"width: 150px;\"/>\n",
    "<img src=\"inv_ren_pay.png\" alt=\"Drawing\" align='middle' style=\"width: 150px;\"/>"
   ]
  },
  {
   "cell_type": "code",
   "execution_count": null,
   "metadata": {},
   "outputs": [],
   "source": [
    "sql=''' \n",
    "\n",
    "    '''\n",
    "\n",
    "pd.read_sql_query(sql,conn)"
   ]
  },
  {
   "cell_type": "markdown",
   "metadata": {},
   "source": [
    "**Q4. Rahul was again asked to create a report containing the top 10 films, but this time with the least revenue. The report should not contain any NULL values and must have the following 3 columns: _film id, film title, total amount_.**\n",
    "<br>\n",
    "Order in ascending order of total amount. If more than one film have the same total_amount, order alphabetically.\n",
    "\n",
    "Note: **INVENTORY.inventory_id** and **RENTAL.inventory_id** are matching key columns.\n",
    "      **RENTAL.rental_id** and **PAYMENT.rental_id** are matching key columns."
   ]
  },
  {
   "cell_type": "code",
   "execution_count": null,
   "metadata": {},
   "outputs": [],
   "source": [
    "sql=''' \n",
    "\n",
    "    '''\n",
    "\n",
    "pd.read_sql_query(sql,conn)"
   ]
  },
  {
   "cell_type": "code",
   "execution_count": null,
   "metadata": {},
   "outputs": [],
   "source": [
    "#Close the connection to database\n",
    "conn.close()"
   ]
  }
 ],
 "metadata": {
  "kernelspec": {
   "display_name": "Python 3",
   "language": "python",
   "name": "python3"
  },
  "language_info": {
   "codemirror_mode": {
    "name": "ipython",
    "version": 3
   },
   "file_extension": ".py",
   "mimetype": "text/x-python",
   "name": "python",
   "nbconvert_exporter": "python",
   "pygments_lexer": "ipython3",
   "version": "3.7.3"
  }
 },
 "nbformat": 4,
 "nbformat_minor": 4
}
